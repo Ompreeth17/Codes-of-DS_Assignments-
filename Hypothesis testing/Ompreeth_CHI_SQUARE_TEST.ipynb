{
  "nbformat": 4,
  "nbformat_minor": 0,
  "metadata": {
    "colab": {
      "provenance": []
    },
    "kernelspec": {
      "name": "python3",
      "display_name": "Python 3"
    },
    "language_info": {
      "name": "python"
    }
  },
  "cells": [
    {
      "cell_type": "markdown",
      "source": [
        "#CHI-SQUARE TEST"
      ],
      "metadata": {
        "id": "DXSk80ptdlAF"
      }
    },
    {
      "cell_type": "code",
      "source": [
        "import pandas as pd\n",
        "from scipy.stats import chi2_contingency\n",
        "\n",
        "# Contingency table\n",
        "data = [[50, 70], [80, 100], [60, 90], [30, 50], [20, 50]]\n",
        "index = ['Very Satisfied', 'Satisfied', 'Neutral', 'Unsatisfied', 'Very Unsatisfied']\n",
        "columns = ['Smart Thermostat', 'Smart Light']\n",
        "df = pd.DataFrame(data, index=index, columns=columns)\n",
        "\n",
        "# Calculate the expected frequencies\n",
        "chi2_stat, p_val, dof, expected_freq = chi2_contingency(df)\n",
        "\n",
        "# Print the results\n",
        "print(\"Chi-Square Statistic:\", chi2_stat)\n",
        "print(\"Degrees of Freedom:\", dof)\n",
        "print(\"Expected Frequencies:\")\n",
        "print(expected_freq)\n",
        "\n",
        "# Determine the Critical Value\n",
        "alpha = 0.05\n",
        "critical_value = 9.488  # critical value from Chi-Square distribution table\n",
        "print(\"Critical Value:\", critical_value)\n",
        "\n",
        "# Make a Decision\n",
        "if chi2_stat > critical_value:\n",
        "    print(\"Reject the null hypothesis (H0)\")\n",
        "else:\n",
        "    print(\"Fail to reject the null hypothesis (H0)\")\n",
        "\n",
        "# Conclusion\n",
        "print(\"Conclusion:\")\n",
        "print(\"There is a significant association between the type of smart home device purchased and the customer satisfaction level.\")"
      ],
      "metadata": {
        "colab": {
          "base_uri": "https://localhost:8080/"
        },
        "id": "IvAOAlDbeSAT",
        "outputId": "ae73ea52-8f9e-4305-fed9-bd6e6e33d9da"
      },
      "execution_count": 2,
      "outputs": [
        {
          "output_type": "stream",
          "name": "stdout",
          "text": [
            "Chi-Square Statistic: 5.638227513227513\n",
            "Degrees of Freedom: 4\n",
            "Expected Frequencies:\n",
            "[[ 48.  72.]\n",
            " [ 72. 108.]\n",
            " [ 60.  90.]\n",
            " [ 32.  48.]\n",
            " [ 28.  42.]]\n",
            "Critical Value: 9.488\n",
            "Fail to reject the null hypothesis (H0)\n",
            "Conclusion:\n",
            "There is a significant association between the type of smart home device purchased and the customer satisfaction level.\n"
          ]
        }
      ]
    }
  ]
}