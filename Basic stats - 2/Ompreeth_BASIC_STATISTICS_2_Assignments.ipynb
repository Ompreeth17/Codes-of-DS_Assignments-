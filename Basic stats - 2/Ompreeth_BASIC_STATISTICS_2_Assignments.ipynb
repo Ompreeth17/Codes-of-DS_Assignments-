{
  "nbformat": 4,
  "nbformat_minor": 0,
  "metadata": {
    "colab": {
      "provenance": []
    },
    "kernelspec": {
      "name": "python3",
      "display_name": "Python 3"
    },
    "language_info": {
      "name": "python"
    }
  },
  "cells": [
    {
      "cell_type": "markdown",
      "source": [
        "#Estimation And Confidence Intervals"
      ],
      "metadata": {
        "id": "Kylm5TwT8All"
      }
    },
    {
      "cell_type": "markdown",
      "source": [
        "#a. Build 99% Confidence Interval Using Sample Standard Deviation"
      ],
      "metadata": {
        "id": "velFMHGK8ahG"
      }
    },
    {
      "cell_type": "markdown",
      "source": [
        "Calculate the sample mean (x̄) and sample standard deviation (s) from the given data"
      ],
      "metadata": {
        "id": "GleNNwIw8o6a"
      }
    },
    {
      "cell_type": "code",
      "execution_count": 1,
      "metadata": {
        "id": "xXKdBVg87htR"
      },
      "outputs": [],
      "source": [
        "import numpy as np\n",
        "\n",
        "data = [1.13, 1.55, 1.43, 0.92, 1.25, 1.36, 1.32, 0.85, 1.07, 1.48, 1.20, 1.33, 1.18, 1.22, 1.29]\n",
        "\n",
        "x_bar = np.mean(data)\n",
        "s = np.std(data, ddof=1)  # ddof=1 for sample standard deviation"
      ]
    },
    {
      "cell_type": "markdown",
      "source": [
        "Determine the degrees of freedom (n-1) for the t-distribution, where n is the sample size"
      ],
      "metadata": {
        "id": "Ux58UtVY8upA"
      }
    },
    {
      "cell_type": "code",
      "source": [
        "n = len(data)\n",
        "df = n - 1"
      ],
      "metadata": {
        "id": "yy5mhOXe8wqC"
      },
      "execution_count": 2,
      "outputs": []
    },
    {
      "cell_type": "markdown",
      "source": [
        "Calculate the critical t-value for a 99% confidence interval using the t-distribution with the given degrees of freedom"
      ],
      "metadata": {
        "id": "jgzR7rmS83uQ"
      }
    },
    {
      "cell_type": "code",
      "source": [
        "from scipy.stats import t\n",
        "\n",
        "alpha = 0.01  # 1 - 0.99\n",
        "t_critical = t.ppf(1 - alpha/2, df)"
      ],
      "metadata": {
        "id": "hkYwoYXu89QF"
      },
      "execution_count": 3,
      "outputs": []
    },
    {
      "cell_type": "markdown",
      "source": [
        "Calculate the margin of error (E) using the sample standard deviation, critical t-value, and sample size"
      ],
      "metadata": {
        "id": "X0FliOMv9ED4"
      }
    },
    {
      "cell_type": "code",
      "source": [
        "E = t_critical * (s / np.sqrt(n))"
      ],
      "metadata": {
        "id": "SY3G_rjE9EyM"
      },
      "execution_count": 4,
      "outputs": []
    },
    {
      "cell_type": "markdown",
      "source": [
        "Construct the 99% confidence interval for the mean number of characters printed before failure"
      ],
      "metadata": {
        "id": "8ZS-F-bA9LHj"
      }
    },
    {
      "cell_type": "code",
      "source": [
        "CI_lower = x_bar - E\n",
        "CI_upper = x_bar + E\n",
        "\n",
        "print(f'The 99% confidence interval is ({CI_lower}, {CI_upper})')"
      ],
      "metadata": {
        "colab": {
          "base_uri": "https://localhost:8080/"
        },
        "id": "eKv0ZOS49Lyv",
        "outputId": "20e0cdcd-949e-49d5-da98-e605de5effe9"
      },
      "execution_count": 5,
      "outputs": [
        {
          "output_type": "stream",
          "name": "stdout",
          "text": [
            "The 99% confidence interval is (1.0901973384384906, 1.3871359948948425)\n"
          ]
        }
      ]
    },
    {
      "cell_type": "code",
      "source": [],
      "metadata": {
        "id": "pjuE3fKk9Q1Y"
      },
      "execution_count": null,
      "outputs": []
    },
    {
      "cell_type": "code",
      "source": [],
      "metadata": {
        "id": "LMLc04QO9WAV"
      },
      "execution_count": null,
      "outputs": []
    },
    {
      "cell_type": "markdown",
      "source": [
        "#b. Build 99% Confidence Interval Using Known Population Standard Deviation"
      ],
      "metadata": {
        "id": "kxzwV56x9UKc"
      }
    },
    {
      "cell_type": "markdown",
      "source": [
        "Calculate the sample mean (x̄) from the given data"
      ],
      "metadata": {
        "id": "wH3oQnzO9Z9v"
      }
    },
    {
      "cell_type": "code",
      "source": [
        "x_bar = np.mean(data)"
      ],
      "metadata": {
        "id": "lc_9__I79VDM"
      },
      "execution_count": 6,
      "outputs": []
    },
    {
      "cell_type": "markdown",
      "source": [
        "Determine the sample size (n)"
      ],
      "metadata": {
        "id": "0732_-LC9f8M"
      }
    },
    {
      "cell_type": "code",
      "source": [
        "n = len(data)"
      ],
      "metadata": {
        "id": "1oEW6vXb9gxB"
      },
      "execution_count": 7,
      "outputs": []
    },
    {
      "cell_type": "markdown",
      "source": [
        "Calculate the critical z-value for a 99% confidence interval using the standard normal distribution"
      ],
      "metadata": {
        "id": "9bKAHLD69nN6"
      }
    },
    {
      "cell_type": "code",
      "source": [
        "from scipy.stats import norm\n",
        "\n",
        "alpha = 0.01  # 1 - 0.99\n",
        "z_critical = norm.ppf(1 - alpha/2)"
      ],
      "metadata": {
        "id": "0ijpXnVd9oDx"
      },
      "execution_count": 8,
      "outputs": []
    },
    {
      "cell_type": "markdown",
      "source": [
        "Calculate the margin of error (E) using the known population standard deviation, critical z-value, and sample size"
      ],
      "metadata": {
        "id": "FH9e9N4D9uVx"
      }
    },
    {
      "cell_type": "code",
      "source": [
        "sigma = 0.2  # known population standard deviation\n",
        "E = z_critical * (sigma / np.sqrt(n))"
      ],
      "metadata": {
        "id": "QZ_ya-rp9vCf"
      },
      "execution_count": 9,
      "outputs": []
    },
    {
      "cell_type": "markdown",
      "source": [
        "Construct the 99% confidence interval for the mean number of characters printed before failure"
      ],
      "metadata": {
        "id": "oPEpI1D390tt"
      }
    },
    {
      "cell_type": "code",
      "source": [
        "CI_lower = x_bar - E\n",
        "CI_upper = x_bar + E\n",
        "\n",
        "print(f'The 99% confidence interval is ({CI_lower}, {CI_upper})')"
      ],
      "metadata": {
        "colab": {
          "base_uri": "https://localhost:8080/"
        },
        "id": "riLY2sFk91XV",
        "outputId": "e3422d4b-49cf-4f3f-fcb4-69162595e0d7"
      },
      "execution_count": 10,
      "outputs": [
        {
          "output_type": "stream",
          "name": "stdout",
          "text": [
            "The 99% confidence interval is (1.1056514133957607, 1.3716819199375725)\n"
          ]
        }
      ]
    },
    {
      "cell_type": "code",
      "source": [],
      "metadata": {
        "id": "jrLHx4IE95d2"
      },
      "execution_count": null,
      "outputs": []
    }
  ]
}