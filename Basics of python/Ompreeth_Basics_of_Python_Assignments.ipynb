{
  "nbformat": 4,
  "nbformat_minor": 0,
  "metadata": {
    "colab": {
      "provenance": []
    },
    "kernelspec": {
      "name": "python3",
      "display_name": "Python 3"
    },
    "language_info": {
      "name": "python"
    }
  },
  "cells": [
    {
      "cell_type": "code",
      "execution_count": null,
      "metadata": {
        "id": "e-8b0quZb3-i"
      },
      "outputs": [],
      "source": []
    },
    {
      "cell_type": "markdown",
      "source": [
        "#PYTHON PROGRAMMING ASSIGNMENT"
      ],
      "metadata": {
        "id": "XCxzfas7cKIx"
      }
    },
    {
      "cell_type": "markdown",
      "source": [
        "#Basics of Python"
      ],
      "metadata": {
        "id": "st1EJx43cNU8"
      }
    },
    {
      "cell_type": "markdown",
      "source": [
        "Exercise 1: Prime Numbers\n",
        "Write a Python program that checks whether a given number is prime or not. A prime number is a natural number greater than 1 that has no positive divisors other than 1 and itself."
      ],
      "metadata": {
        "id": "iQPNwp-odYD0"
      }
    },
    {
      "cell_type": "code",
      "source": [
        "# Function to check if a number is prime\n",
        "def is_prime(num):\n",
        "    # Prime numbers are greater than 1\n",
        "    if num <= 1:\n",
        "        return False\n",
        "\n",
        "    # Check divisibility from 2 to sqrt(num)\n",
        "    for i in range(2, int(num**0.5) + 1):\n",
        "        if num % i == 0:  # If divisible by any number in this range\n",
        "            return False\n",
        "\n",
        "    return True  # If no divisors found, it is prime\n",
        "\n",
        "# Testing the function with some values\n",
        "test_numbers = [2, 3, 4, 5, 11, 18, 19, 20]\n",
        "results = {n: is_prime(n) for n in test_numbers}\n",
        "print(results)"
      ],
      "metadata": {
        "colab": {
          "base_uri": "https://localhost:8080/"
        },
        "id": "hJNZTQQecL7d",
        "outputId": "5636bb3d-dbf9-49e0-c218-58ca7f24b93e"
      },
      "execution_count": 1,
      "outputs": [
        {
          "output_type": "stream",
          "name": "stdout",
          "text": [
            "{2: True, 3: True, 4: False, 5: True, 11: True, 18: False, 19: True, 20: False}\n"
          ]
        }
      ]
    },
    {
      "cell_type": "markdown",
      "source": [
        "Exercise 2: Product of Random Numbers\n",
        "Develop a Python program that generates two random numbers and asks the user to enter the product of these numbers. The program should then check if the user's answer is correct and display an appropriate message.\n"
      ],
      "metadata": {
        "id": "VMxIsG2Vdqy5"
      }
    },
    {
      "cell_type": "code",
      "source": [
        "import random\n",
        "\n",
        "def product_quiz():\n",
        "    # Generate two random numbers\n",
        "    num1 = random.randint(1, 100)\n",
        "    num2 = random.randint(1, 100)\n",
        "\n",
        "    # Ask user to calculate the product\n",
        "    print(f\"Calculate the product of {num1} and {num2}: \")\n",
        "    user_answer = int(input(\"Your answer: \"))\n",
        "\n",
        "    # Calculate the correct product\n",
        "    correct_answer = num1 * num2\n",
        "\n",
        "    # Check if the user's answer is correct\n",
        "    if user_answer == correct_answer:\n",
        "        print(\"Correct! Well done.\")\n",
        "    else:\n",
        "        print(f\"Incorrect. The correct answer was {correct_answer}.\")\n",
        "\n",
        "# Running the product quiz\n",
        "product_quiz()"
      ],
      "metadata": {
        "colab": {
          "base_uri": "https://localhost:8080/"
        },
        "id": "qxpDZ-PwdpG8",
        "outputId": "e14bf814-9df6-4a2a-888f-eef1c7bc258c"
      },
      "execution_count": 3,
      "outputs": [
        {
          "output_type": "stream",
          "name": "stdout",
          "text": [
            "Calculate the product of 4 and 9: \n",
            "Your answer: 36\n",
            "Correct! Well done.\n"
          ]
        }
      ]
    },
    {
      "cell_type": "markdown",
      "source": [
        "Exercise 3: Squares of Even/Odd Numbers\n",
        "Create a Python script that prints the squares of all even or odd numbers within the range of 100 to 200. Choose either even or odd numbers and document your choice in the code.\n"
      ],
      "metadata": {
        "id": "yNveNOIlebn8"
      }
    },
    {
      "cell_type": "code",
      "source": [
        "def print_squares_of_even_numbers():\n",
        "    # Loop through the range 100 to 200\n",
        "    for num in range(100, 201):\n",
        "        if num % 2 == 0:  # Check if the number is even\n",
        "            print(f\"The square of {num} is {num ** 2}\")\n",
        "\n",
        "# Calling the function to print squares of even numbers\n",
        "print_squares_of_even_numbers()"
      ],
      "metadata": {
        "colab": {
          "base_uri": "https://localhost:8080/"
        },
        "id": "T6aDaEvReY5q",
        "outputId": "a21a6461-73a8-472e-94b0-6cd4cb86f79f"
      },
      "execution_count": 4,
      "outputs": [
        {
          "output_type": "stream",
          "name": "stdout",
          "text": [
            "The square of 100 is 10000\n",
            "The square of 102 is 10404\n",
            "The square of 104 is 10816\n",
            "The square of 106 is 11236\n",
            "The square of 108 is 11664\n",
            "The square of 110 is 12100\n",
            "The square of 112 is 12544\n",
            "The square of 114 is 12996\n",
            "The square of 116 is 13456\n",
            "The square of 118 is 13924\n",
            "The square of 120 is 14400\n",
            "The square of 122 is 14884\n",
            "The square of 124 is 15376\n",
            "The square of 126 is 15876\n",
            "The square of 128 is 16384\n",
            "The square of 130 is 16900\n",
            "The square of 132 is 17424\n",
            "The square of 134 is 17956\n",
            "The square of 136 is 18496\n",
            "The square of 138 is 19044\n",
            "The square of 140 is 19600\n",
            "The square of 142 is 20164\n",
            "The square of 144 is 20736\n",
            "The square of 146 is 21316\n",
            "The square of 148 is 21904\n",
            "The square of 150 is 22500\n",
            "The square of 152 is 23104\n",
            "The square of 154 is 23716\n",
            "The square of 156 is 24336\n",
            "The square of 158 is 24964\n",
            "The square of 160 is 25600\n",
            "The square of 162 is 26244\n",
            "The square of 164 is 26896\n",
            "The square of 166 is 27556\n",
            "The square of 168 is 28224\n",
            "The square of 170 is 28900\n",
            "The square of 172 is 29584\n",
            "The square of 174 is 30276\n",
            "The square of 176 is 30976\n",
            "The square of 178 is 31684\n",
            "The square of 180 is 32400\n",
            "The square of 182 is 33124\n",
            "The square of 184 is 33856\n",
            "The square of 186 is 34596\n",
            "The square of 188 is 35344\n",
            "The square of 190 is 36100\n",
            "The square of 192 is 36864\n",
            "The square of 194 is 37636\n",
            "The square of 196 is 38416\n",
            "The square of 198 is 39204\n",
            "The square of 200 is 40000\n"
          ]
        }
      ]
    },
    {
      "cell_type": "markdown",
      "source": [
        "Exercise 4: Word counter\n",
        "write a program to count the number of words in a given text.\n",
        "example:\n",
        "input_text = \"This is a sample text. This text will be used to demonstrate the word counter.\"\n",
        "Expected output:\n",
        "'This': 2\n",
        "'is': 1\n",
        "'a': 1\n",
        "'sample': 1\n",
        "'text.': 1\n"
      ],
      "metadata": {
        "id": "Xpss8fYxe1ZA"
      }
    },
    {
      "cell_type": "code",
      "source": [
        "def word_counter(input_text):\n",
        "    # Split the text into words\n",
        "    words = input_text.split()\n",
        "\n",
        "    # Create an empty dictionary to store word counts\n",
        "    word_count = {}\n",
        "\n",
        "    # Loop through each word in the list\n",
        "    for word in words:\n",
        "        # If the word is already in the dictionary, increment its count\n",
        "        if word in word_count:\n",
        "            word_count[word] += 1\n",
        "            # Otherwise, add the word to the dictionary with a count of 1\n",
        "        else:\n",
        "            word_count[word] = 1\n",
        "\n",
        "    # Print the word counts\n",
        "    for word, count in word_count.items():\n",
        "        print(f\"'{word}': {count}\")\n",
        "\n",
        "# Test with the provided input\n",
        "input_text = \"Need for Speed Most Wanted\"\n",
        "word_counter(input_text)"
      ],
      "metadata": {
        "colab": {
          "base_uri": "https://localhost:8080/"
        },
        "id": "7toTmXi0fRcg",
        "outputId": "48d52a2b-e680-406a-a0d0-5d813f905482"
      },
      "execution_count": 6,
      "outputs": [
        {
          "output_type": "stream",
          "name": "stdout",
          "text": [
            "'Need': 1\n",
            "'for': 1\n",
            "'Speed': 1\n",
            "'Most': 1\n",
            "'Wanted': 1\n"
          ]
        }
      ]
    },
    {
      "cell_type": "markdown",
      "source": [
        "Exercise 5: Check for Palindrome\n",
        "Write a Python function called is_palindrome that takes a string as input and returns True if the string is a palindrome, and False otherwise. A palindrome is a word, phrase, number, or other sequence of characters that reads the same forward and backward, ignoring spaces, punctuation, and capitalization.\n",
        "Example:\n",
        "Input: \"racecar\"\n",
        "Expected Output: True\n"
      ],
      "metadata": {
        "id": "8GjqDlC1f0XX"
      }
    },
    {
      "cell_type": "code",
      "source": [
        "def is_palindrome(input_string):\n",
        "    # Remove spaces and convert to lowercase for comparison\n",
        "    cleaned_string = ''.join(char.lower() for char in input_string if char.isalnum())\n",
        "\n",
        "    # Check if the cleaned string is equal to its reverse\n",
        "    return cleaned_string == cleaned_string[::-1]\n",
        "\n",
        "# Test the function with the provided example\n",
        "input_string = \"ronaldo\"\n",
        "print(is_palindrome(input_string))"
      ],
      "metadata": {
        "colab": {
          "base_uri": "https://localhost:8080/"
        },
        "id": "Je_9NqK0fs0V",
        "outputId": "ccfe9a74-aa2d-4157-9499-5748af53a0b9"
      },
      "execution_count": 7,
      "outputs": [
        {
          "output_type": "stream",
          "name": "stdout",
          "text": [
            "False\n"
          ]
        }
      ]
    },
    {
      "cell_type": "code",
      "source": [
        "def is_palindrome(input_string):\n",
        "    # Remove spaces and convert to lowercase for comparison\n",
        "    cleaned_string = ''.join(char.lower() for char in input_string if char.isalnum())\n",
        "\n",
        "    # Check if the cleaned string is equal to its reverse\n",
        "    return cleaned_string == cleaned_string[::-1]\n",
        "\n",
        "# Test the function with the provided example\n",
        "input_string = \"racecar\"\n",
        "print(is_palindrome(input_string))"
      ],
      "metadata": {
        "colab": {
          "base_uri": "https://localhost:8080/"
        },
        "id": "u6chFNx1gIg9",
        "outputId": "8867a7e9-78c6-4da9-e1fd-b7e89193f9d7"
      },
      "execution_count": 8,
      "outputs": [
        {
          "output_type": "stream",
          "name": "stdout",
          "text": [
            "True\n"
          ]
        }
      ]
    }
  ]
}